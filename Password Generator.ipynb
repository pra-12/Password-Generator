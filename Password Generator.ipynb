{
 "cells": [
  {
   "cell_type": "code",
   "execution_count": 3,
   "id": "0ea461f0",
   "metadata": {},
   "outputs": [
    {
     "name": "stdout",
     "output_type": "stream",
     "text": [
      "How many passwords do you want to generate? 2\n",
      "Generating 2 passwords\n",
      "Enter the minimum length of passwords: 3\n",
      "Enter the maximum length of passwords: 8\n",
      "Password #1 = fmM\n",
      "Password #2 = 8FKn9g}@\n"
     ]
    }
   ],
   "source": [
    "import random\n",
    "import string\n",
    "\n",
    "def generate_password(length):\n",
    "    characters = string.ascii_letters + string.digits + string.punctuation\n",
    "    password = ''.join(random.choice(characters) for _ in range(length))\n",
    "    return password\n",
    "\n",
    "def generate_passwords(num_passwords, min_length=8, max_length=12):\n",
    "    return [generate_password(random.randint(min_length, max_length)) for _ in range(num_passwords)]\n",
    "\n",
    "def main():\n",
    "    num_passwords = int(input(\"How many passwords do you want to generate? \"))\n",
    "    print(f\"Generating {num_passwords} passwords\")\n",
    "\n",
    "    min_length = int(input(\"Enter the minimum length of passwords: \"))\n",
    "    max_length = int(input(\"Enter the maximum length of passwords: \"))\n",
    "\n",
    "    passwords = generate_passwords(num_passwords, min_length, max_length)\n",
    "\n",
    "    for i, password in enumerate(passwords, start=1):\n",
    "        print(f\"Password #{i} = {password}\")\n",
    "\n",
    "if __name__ == \"__main__\":\n",
    "    main()\n"
   ]
  },
  {
   "cell_type": "code",
   "execution_count": null,
   "id": "702a2acc",
   "metadata": {},
   "outputs": [],
   "source": []
  }
 ],
 "metadata": {
  "kernelspec": {
   "display_name": "Python 3 (ipykernel)",
   "language": "python",
   "name": "python3"
  },
  "language_info": {
   "codemirror_mode": {
    "name": "ipython",
    "version": 3
   },
   "file_extension": ".py",
   "mimetype": "text/x-python",
   "name": "python",
   "nbconvert_exporter": "python",
   "pygments_lexer": "ipython3",
   "version": "3.11.5"
  }
 },
 "nbformat": 4,
 "nbformat_minor": 5
}
